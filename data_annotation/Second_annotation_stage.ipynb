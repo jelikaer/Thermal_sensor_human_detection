{
  "nbformat": 4,
  "nbformat_minor": 0,
  "metadata": {
    "colab": {
      "name": "Second_annotation_stage.ipynb",
      "provenance": []
    },
    "kernelspec": {
      "name": "python3",
      "display_name": "Python 3"
    },
    "language_info": {
      "name": "python"
    }
  },
  "cells": [
    {
      "cell_type": "code",
      "execution_count": 2,
      "metadata": {
        "id": "h2xRIl0MmSm7"
      },
      "outputs": [],
      "source": [
        "import json\n",
        "from matplotlib.colors import LinearSegmentedColormap\n",
        "import matplotlib.pyplot as plt\n",
        "import seaborn as sns\n",
        "import numpy as np\n",
        "import cv2"
      ]
    },
    {
      "cell_type": "code",
      "source": [
        "frames = []\n",
        "data = []\n",
        "data_init = []\n",
        "for line in open('annotated_2nd_dataset2.txt', 'r'):\n",
        "    frames.append(json.loads(line))\n",
        "print(type(frames))"
      ],
      "metadata": {
        "colab": {
          "base_uri": "https://localhost:8080/"
        },
        "id": "2HvjVBqgmpC7",
        "outputId": "a7b09e1c-6797-4ece-b9ed-05db351651bd"
      },
      "execution_count": 3,
      "outputs": [
        {
          "output_type": "stream",
          "name": "stdout",
          "text": [
            "<class 'list'>\n"
          ]
        }
      ]
    },
    {
      "cell_type": "code",
      "source": [
        "\n",
        "new_file = open(\"annotated_2nd_dataset2.txt\", \"w\")\n",
        "\n",
        "plt.rcParams['figure.dpi'] = 80\n",
        "\n",
        "# Overwrite frames with incorrect people number\n",
        "# Incorrect number should be controlled mannually according to the \n",
        "# plots on the previous annotation stage\n",
        "# This stage was made during the work on 2nd dataset. \n",
        "# Similar actions for first dataset was done manually\n",
        "\n",
        "number = 0\n",
        "for frame in frames:\n",
        "  sample_nr = frame['FrameNr']\n",
        "  if sample_nr in range(645, 683):\n",
        "    frame['PeopleCount'] = 3\n",
        "  elif sample_nr in range(15, 139):\n",
        "    frame['PeopleCount'] = 3\n",
        "  elif sample_nr in range(139, 342):\n",
        "    frame['PeopleCount'] = 2\n",
        "  elif sample_nr in range(453, 457):\n",
        "    frame['PeopleCount'] = 3\n",
        "  elif sample_nr in range(494, 598):\n",
        "    frame['PeopleCount'] = 3\n",
        "  elif sample_nr in range(600, 645):\n",
        "    frame['PeopleCount'] = 2\n",
        "  elif sample_nr in range(712, 721):\n",
        "    frame['PeopleCount'] = 3\n",
        "  elif sample_nr in range(729, 881):\n",
        "    frame['PeopleCount'] = 3\n",
        "  elif sample_nr in range(915, 957):\n",
        "    frame['PeopleCount'] = 2\n",
        "  elif sample_nr in range(957, 1051):\n",
        "    frame['PeopleCount'] = 3\n",
        "  elif sample_nr in range(1089, 1115):\n",
        "    frame['PeopleCount'] = 1\n",
        "  elif sample_nr in range(1253, 1313):\n",
        "    frame['PeopleCount'] = 2\n",
        "  elif sample_nr in range(1313, 1609):\n",
        "    frame['PeopleCount'] = 1\n",
        "  elif sample_nr in range(1608, 1656):\n",
        "    frame['PeopleCount'] = 2\n",
        "  elif sample_nr in range(1609, 1682):\n",
        "    frame['PeopleCount'] = 3  \n",
        "  elif sample_nr in range(1749, 1762):\n",
        "    frame['PeopleCount'] = 1\n",
        "  elif sample_nr in range(1762, 1810):\n",
        "    frame['PeopleCount'] = 2\n",
        "  elif sample_nr in range(1810, 1821):\n",
        "    frame['PeopleCount'] = 3\n",
        "  elif sample_nr in range(1821, 1836):\n",
        "    frame['PeopleCount'] = 2\n",
        "  elif sample_nr in range(1863, 1870):\n",
        "    frame['PeopleCount'] = 3\n",
        "  elif sample_nr in range(1904, 2124):\n",
        "    frame['PeopleCount'] = 2\n",
        "  \n",
        "  # Clear strange data samples\n",
        "  elif sample_nr in range(881, 907):\n",
        "    frame.clear()\n",
        "  elif sample_nr in range(1051, 1089):\n",
        "    frame.clear()  \n",
        "  elif sample_nr in range(2124, 5001):\n",
        "    frame.clear()\n",
        "\n",
        "  new_file.write(str(frame) + \"\\n\")\n",
        "\n",
        "new_file.close()"
      ],
      "metadata": {
        "id": "uPmxHLh0mxQr"
      },
      "execution_count": 4,
      "outputs": []
    }
  ]
}